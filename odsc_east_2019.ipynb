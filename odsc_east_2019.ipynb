{
  "nbformat": 4,
  "nbformat_minor": 0,
  "metadata": {
    "colab": {
      "name": "odsc_east_2019.ipynb",
      "version": "0.3.2",
      "provenance": [],
      "include_colab_link": true
    },
    "language_info": {
      "codemirror_mode": {
        "name": "ipython",
        "version": 3
      },
      "file_extension": ".py",
      "mimetype": "text/x-python",
      "name": "python",
      "nbconvert_exporter": "python",
      "pygments_lexer": "ipython3",
      "version": "3.6.4"
    },
    "kernelspec": {
      "display_name": "Python 3",
      "language": "python",
      "name": "python3"
    }
  },
  "cells": [
    {
      "cell_type": "markdown",
      "metadata": {
        "id": "view-in-github",
        "colab_type": "text"
      },
      "source": [
        "<a href=\"https://colab.research.google.com/github/samsura89/python_class/blob/master/odsc_east_2019.ipynb\" target=\"_parent\"><img src=\"https://colab.research.google.com/assets/colab-badge.svg\" alt=\"Open In Colab\"/></a>"
      ]
    },
    {
      "cell_type": "markdown",
      "metadata": {
        "id": "QwafslJkG14P",
        "colab_type": "text"
      },
      "source": [
        "# Mastering Gradient Boosting with CatBoost"
      ]
    },
    {
      "cell_type": "markdown",
      "metadata": {
        "id": "9gX-LYtmG14S",
        "colab_type": "text"
      },
      "source": [
        "In this tutorial we will use dataset Amazon Employee Access Challenge from [Kaggle](https://www.kaggle.com) competition for our experiments. [Here](https://www.kaggle.com/c/amazon-employee-access-challenge/data) is the link to the challenge, that we will be exploring."
      ]
    },
    {
      "cell_type": "markdown",
      "metadata": {
        "id": "ateRUuCpG14U",
        "colab_type": "text"
      },
      "source": [
        "## Libraries installation"
      ]
    },
    {
      "cell_type": "code",
      "metadata": {
        "id": "HeqOdS61G14X",
        "colab_type": "code",
        "colab": {}
      },
      "source": [
        "#!pip install --user --upgrade catboost\n",
        "#!pip install --user --upgrade ipywidgets\n",
        "#!pip install shap\n",
        "#!pip install sklearn\n",
        "#!jupyter nbextension enable --py widgetsnbextension"
      ],
      "execution_count": 0,
      "outputs": []
    },
    {
      "cell_type": "code",
      "metadata": {
        "id": "nk2UHfDGG14g",
        "colab_type": "code",
        "colab": {}
      },
      "source": [
        "import os\n",
        "import pandas as pd\n",
        "import numpy as np\n",
        "np.set_printoptions(precision=4)\n",
        "\n",
        "import catboost\n",
        "print(catboost.__version__)"
      ],
      "execution_count": 0,
      "outputs": []
    },
    {
      "cell_type": "markdown",
      "metadata": {
        "id": "H57S-MElG14n",
        "colab_type": "text"
      },
      "source": [
        "## Reading the data"
      ]
    },
    {
      "cell_type": "code",
      "metadata": {
        "id": "wtPghGqYG14p",
        "colab_type": "code",
        "colab": {}
      },
      "source": [
        "from catboost.datasets import amazon\n",
        "\n",
        "# If you have \"URLError: SSL: CERTIFICATE_VERIFY_FAILED\" uncomment next two lines:\n",
        "# import ssl\n",
        "# ssl._create_default_https_context = ssl._create_unverified_context\n",
        "\n",
        "# If you have any other error:\n",
        "# Download datasets from http://bit.ly/2ZUXTSv and uncomment next line:\n",
        "# train_df = pd.read_csv('train.csv', sep=',', header='infer')\n",
        "\n",
        "(train_df, test_df) = amazon()"
      ],
      "execution_count": 0,
      "outputs": []
    },
    {
      "cell_type": "code",
      "metadata": {
        "id": "0THe_-wyG14w",
        "colab_type": "code",
        "colab": {}
      },
      "source": [
        "train_df.head()"
      ],
      "execution_count": 0,
      "outputs": []
    },
    {
      "cell_type": "markdown",
      "metadata": {
        "id": "vj4v6fIoG140",
        "colab_type": "text"
      },
      "source": [
        "## Exploring the data"
      ]
    },
    {
      "cell_type": "markdown",
      "metadata": {
        "id": "ghJAWtsOG141",
        "colab_type": "text"
      },
      "source": [
        "Label values extraction"
      ]
    },
    {
      "cell_type": "code",
      "metadata": {
        "id": "5nUFNyOpG142",
        "colab_type": "code",
        "colab": {}
      },
      "source": [
        "y = train_df.ACTION\n",
        "X = train_df.drop('ACTION', axis=1)"
      ],
      "execution_count": 0,
      "outputs": []
    },
    {
      "cell_type": "markdown",
      "metadata": {
        "id": "OJ6RKKTQG144",
        "colab_type": "text"
      },
      "source": [
        "Categorical features declaration"
      ]
    },
    {
      "cell_type": "code",
      "metadata": {
        "id": "wcQ3ATSsG146",
        "colab_type": "code",
        "colab": {}
      },
      "source": [
        "cat_features = list(range(0, X.shape[1]))\n",
        "print(cat_features)"
      ],
      "execution_count": 0,
      "outputs": []
    },
    {
      "cell_type": "markdown",
      "metadata": {
        "id": "n4ID06eBG149",
        "colab_type": "text"
      },
      "source": [
        "Looking on label balance in dataset"
      ]
    },
    {
      "cell_type": "code",
      "metadata": {
        "id": "tFbzxbzbG14-",
        "colab_type": "code",
        "colab": {}
      },
      "source": [
        "print('Labels: {}'.format(set(y)))\n",
        "print('Zero count = {}, One count = {}'.format(len(y) - sum(y), sum(y)))"
      ],
      "execution_count": 0,
      "outputs": []
    },
    {
      "cell_type": "markdown",
      "metadata": {
        "id": "_pvCS3wiG15C",
        "colab_type": "text"
      },
      "source": [
        "# Training the first model"
      ]
    },
    {
      "cell_type": "code",
      "metadata": {
        "id": "7HUnR5KlG15D",
        "colab_type": "code",
        "colab": {}
      },
      "source": [
        "from catboost import CatBoostClassifier\n",
        "model = CatBoostClassifier(iterations=100)\n",
        "model.fit(X, y, cat_features=cat_features, verbose=10)"
      ],
      "execution_count": 0,
      "outputs": []
    },
    {
      "cell_type": "code",
      "metadata": {
        "id": "veM5wFUaG15G",
        "colab_type": "code",
        "colab": {}
      },
      "source": [
        "model.predict_proba(X)"
      ],
      "execution_count": 0,
      "outputs": []
    },
    {
      "cell_type": "markdown",
      "metadata": {
        "id": "P7mmPOh8G15J",
        "colab_type": "text"
      },
      "source": [
        "# Working with dataset"
      ]
    },
    {
      "cell_type": "markdown",
      "metadata": {
        "id": "ZihvXdLeG15K",
        "colab_type": "text"
      },
      "source": [
        "There are several ways of passing dataset to training - using X,y (the initial matrix) or using Pool class.\n",
        "Pool class is the class for storing the dataset. In the next few blocks we'll explore the ways to create a Pool object.\n",
        "\n",
        "You can use Pool class if the dataset has more than just X and y (for example, it has sample weights or groups) or if the dataset is large and it takes long time to read it into python."
      ]
    },
    {
      "cell_type": "code",
      "metadata": {
        "id": "R-f2CnuBG15L",
        "colab_type": "code",
        "colab": {}
      },
      "source": [
        "from catboost import Pool\n",
        "pool1 = Pool(data=X, label=y, cat_features=cat_features)"
      ],
      "execution_count": 0,
      "outputs": []
    },
    {
      "cell_type": "code",
      "metadata": {
        "id": "ciV_dFusG15O",
        "colab_type": "code",
        "colab": {}
      },
      "source": [
        "dataset_dir = './amazon'\n",
        "if not os.path.exists(dataset_dir):\n",
        "    os.makedirs(dataset_dir)\n",
        "\n",
        "train_df.to_csv(\n",
        "    os.path.join(dataset_dir, 'train.csv'),\n",
        "    index=False, sep=',', header=True\n",
        ")"
      ],
      "execution_count": 0,
      "outputs": []
    },
    {
      "cell_type": "code",
      "metadata": {
        "id": "y9IUOwbFG15Q",
        "colab_type": "code",
        "colab": {}
      },
      "source": [
        "!head -3 amazon/train.csv"
      ],
      "execution_count": 0,
      "outputs": []
    },
    {
      "cell_type": "code",
      "metadata": {
        "id": "xYv_uwiXG15T",
        "colab_type": "code",
        "colab": {}
      },
      "source": [
        "from catboost.utils import create_cd\n",
        "feature_names = dict(list(enumerate(train_df.keys()[1:])))\n",
        "    \n",
        "create_cd(\n",
        "    label=0,\n",
        "    cat_features=list(range(1, train_df.shape[1])),\n",
        "    feature_names=feature_names,\n",
        "    output_path=os.path.join(dataset_dir, 'train.cd')\n",
        ")"
      ],
      "execution_count": 0,
      "outputs": []
    },
    {
      "cell_type": "code",
      "metadata": {
        "id": "xR2sDmnLG15V",
        "colab_type": "code",
        "colab": {}
      },
      "source": [
        "!cat amazon/train.cd"
      ],
      "execution_count": 0,
      "outputs": []
    },
    {
      "cell_type": "code",
      "metadata": {
        "id": "pBAAHWdvG15Y",
        "colab_type": "code",
        "colab": {}
      },
      "source": [
        "pool2 = Pool(\n",
        "    data=os.path.join(dataset_dir, 'train.csv'), \n",
        "    delimiter=',', \n",
        "    column_description=os.path.join(dataset_dir, 'train.cd'),\n",
        "    has_header=True\n",
        ")\n",
        "\n",
        "print('Dataset shape: {}\\n'.format(pool2.shape))\n",
        "print('Column names: {}'.format(pool2.get_feature_names()))"
      ],
      "execution_count": 0,
      "outputs": []
    },
    {
      "cell_type": "code",
      "metadata": {
        "id": "Yx6gBBDHG15b",
        "colab_type": "code",
        "colab": {}
      },
      "source": [
        "from catboost import CatBoostClassifier\n",
        "\n",
        "CatBoostClassifier(iterations=3).fit(X, y, cat_features=cat_features);\n",
        "CatBoostClassifier(iterations=3).fit(pool1)\n",
        "CatBoostClassifier(iterations=3).fit(pool2)"
      ],
      "execution_count": 0,
      "outputs": []
    },
    {
      "cell_type": "markdown",
      "metadata": {
        "id": "BhDyP4roG15h",
        "colab_type": "text"
      },
      "source": [
        "## Split your data into train and validation"
      ]
    },
    {
      "cell_type": "code",
      "metadata": {
        "id": "glwKNzHqG15k",
        "colab_type": "code",
        "colab": {}
      },
      "source": [
        "from sklearn.model_selection import train_test_split\n",
        "\n",
        "data = train_test_split(X, y, test_size=0.2, random_state=0)\n",
        "X_train, X_validation, y_train, y_validation = data\n",
        "\n",
        "train_pool = Pool(\n",
        "    data=X_train, \n",
        "    label=y_train, \n",
        "    cat_features=cat_features\n",
        ")\n",
        "\n",
        "validation_pool = Pool(\n",
        "    data=X_validation, \n",
        "    label=y_validation, \n",
        "    cat_features=cat_features\n",
        ")"
      ],
      "execution_count": 0,
      "outputs": []
    },
    {
      "cell_type": "markdown",
      "metadata": {
        "id": "w2abT6RWG15q",
        "colab_type": "text"
      },
      "source": [
        "## Selecting the objective function"
      ]
    },
    {
      "cell_type": "markdown",
      "metadata": {
        "id": "sY7oBsIeG15r",
        "colab_type": "text"
      },
      "source": [
        "Possible options for binary classification:\n",
        "\n",
        "`Logloss` for binary target.\n",
        "\n",
        "`CrossEntropy` for probabilities in target."
      ]
    },
    {
      "cell_type": "code",
      "metadata": {
        "id": "PDVUW-mTG15s",
        "colab_type": "code",
        "colab": {}
      },
      "source": [
        "model = CatBoostClassifier(\n",
        "    iterations=5,\n",
        "    learning_rate=0.1,\n",
        "    # loss_function='CrossEntropy'\n",
        ")\n",
        "model.fit(train_pool, eval_set=validation_pool, verbose=False)\n",
        "\n",
        "print('Model is fitted: {}'.format(model.is_fitted()))\n",
        "print('Model params:\\n{}'.format(model.get_params()))"
      ],
      "execution_count": 0,
      "outputs": []
    },
    {
      "cell_type": "markdown",
      "metadata": {
        "id": "JEna4IUIG15v",
        "colab_type": "text"
      },
      "source": [
        "## Stdout of the training"
      ]
    },
    {
      "cell_type": "code",
      "metadata": {
        "scrolled": false,
        "id": "6pI10MW8G15w",
        "colab_type": "code",
        "colab": {}
      },
      "source": [
        "model = CatBoostClassifier(\n",
        "    iterations=15,\n",
        "#     verbose=5,\n",
        ")\n",
        "model.fit(train_pool, eval_set=validation_pool);"
      ],
      "execution_count": 0,
      "outputs": []
    },
    {
      "cell_type": "markdown",
      "metadata": {
        "id": "qaj2_Jh4G15z",
        "colab_type": "text"
      },
      "source": [
        "## Metrics calculation and graph plotting"
      ]
    },
    {
      "cell_type": "code",
      "metadata": {
        "id": "YuX7YYOLG150",
        "colab_type": "code",
        "colab": {}
      },
      "source": [
        "model = CatBoostClassifier(\n",
        "    iterations=50,\n",
        "    learning_rate=0.5,\n",
        "    custom_loss=['AUC', 'Accuracy']\n",
        ")\n",
        "\n",
        "model.fit(\n",
        "    train_pool,\n",
        "    eval_set=validation_pool,\n",
        "    verbose=False,\n",
        "    plot=True\n",
        ");"
      ],
      "execution_count": 0,
      "outputs": []
    },
    {
      "cell_type": "markdown",
      "metadata": {
        "id": "Ob8Y5YtPG154",
        "colab_type": "text"
      },
      "source": [
        "## Model comparison"
      ]
    },
    {
      "cell_type": "code",
      "metadata": {
        "id": "jwOC-aONG155",
        "colab_type": "code",
        "colab": {}
      },
      "source": [
        "model1 = CatBoostClassifier(\n",
        "    learning_rate=0.7,\n",
        "    iterations=100,\n",
        "    train_dir='learing_rate_0.7'\n",
        ")\n",
        "\n",
        "model2 = CatBoostClassifier(\n",
        "    learning_rate=0.01,\n",
        "    iterations=100,\n",
        "    train_dir='learing_rate_0.01'\n",
        ")\n",
        "\n",
        "model1.fit(train_pool, eval_set=validation_pool, verbose=20)\n",
        "model2.fit(train_pool, eval_set=validation_pool, verbose=20);"
      ],
      "execution_count": 0,
      "outputs": []
    },
    {
      "cell_type": "code",
      "metadata": {
        "id": "l3fDUjnFG157",
        "colab_type": "code",
        "colab": {}
      },
      "source": [
        "from catboost import MetricVisualizer\n",
        "MetricVisualizer(['learing_rate_0.7', 'learing_rate_0.01']).start()"
      ],
      "execution_count": 0,
      "outputs": []
    },
    {
      "cell_type": "markdown",
      "metadata": {
        "id": "JaHIAkPZG15-",
        "colab_type": "text"
      },
      "source": [
        "## Best iteration"
      ]
    },
    {
      "cell_type": "code",
      "metadata": {
        "id": "neSUlZ0AG15-",
        "colab_type": "code",
        "colab": {}
      },
      "source": [
        "model = CatBoostClassifier(\n",
        "    iterations=100,\n",
        "#     use_best_model=False\n",
        ")\n",
        "model.fit(\n",
        "    train_pool,\n",
        "    eval_set=validation_pool,\n",
        "    verbose=False,\n",
        "    plot=True\n",
        ");"
      ],
      "execution_count": 0,
      "outputs": []
    },
    {
      "cell_type": "code",
      "metadata": {
        "id": "gR9pKFZ6G16C",
        "colab_type": "code",
        "colab": {}
      },
      "source": [
        "print('Tree count: ' + str(model.tree_count_))"
      ],
      "execution_count": 0,
      "outputs": []
    },
    {
      "cell_type": "markdown",
      "metadata": {
        "id": "EpSN4CqyG16G",
        "colab_type": "text"
      },
      "source": [
        "# Handling inbalanced data"
      ]
    },
    {
      "cell_type": "markdown",
      "metadata": {
        "id": "MKAFaZYrG16H",
        "colab_type": "text"
      },
      "source": [
        "If the dataset is inbalanced, you can try reweighting the object in the dataset - give more weight to the objects of the rare class. It can be done by setting a weight for every object (use `weight` parameter of fit function or of Pool initialisation).\n",
        "Or it can be done by using `scale_pos_weight` parameter, which assignes weight value to all objects of the positive class."
      ]
    },
    {
      "cell_type": "code",
      "metadata": {
        "id": "kcA27V6-G16I",
        "colab_type": "code",
        "colab": {}
      },
      "source": [
        "scale_pos_weight = sum(y_train == 0) / (1.0 * sum(y_train == 1))\n",
        "print(\"Positive count = \", sum(y_train == 1))\n",
        "print(\"Negarive count = \", sum(y_train == 0))\n",
        "print(\"Weight for class 1 objects = {:.4f}\".format(scale_pos_weight))"
      ],
      "execution_count": 0,
      "outputs": []
    },
    {
      "cell_type": "code",
      "metadata": {
        "id": "m1tFhbcUG16L",
        "colab_type": "code",
        "colab": {}
      },
      "source": [
        "model = CatBoostClassifier(\n",
        "    iterations=100,\n",
        "    scale_pos_weight=scale_pos_weight,\n",
        "    custom_metric=['AUC', 'Accuracy:use_weights=false']\n",
        ")\n",
        "model.fit(\n",
        "    X_train, y_train, cat_features=cat_features,\n",
        "    eval_set=validation_pool,\n",
        "    verbose=False,\n",
        "    plot=True\n",
        ");"
      ],
      "execution_count": 0,
      "outputs": []
    },
    {
      "cell_type": "markdown",
      "metadata": {
        "id": "HgO9PUDPG16N",
        "colab_type": "text"
      },
      "source": [
        "## Cross-validation"
      ]
    },
    {
      "cell_type": "code",
      "metadata": {
        "id": "sOxtZXLeG16O",
        "colab_type": "code",
        "colab": {}
      },
      "source": [
        "from catboost import cv\n",
        "\n",
        "params = {\n",
        "    'loss_function': 'Logloss',\n",
        "    'iterations': 80,\n",
        "    'custom_loss': 'AUC',\n",
        "    'learning_rate': 0.5,\n",
        "}\n",
        "\n",
        "cv_data = cv(\n",
        "    params = params,\n",
        "    pool = train_pool,\n",
        "    fold_count=5,\n",
        "    shuffle=True,\n",
        "    partition_random_seed=0,\n",
        "    plot=True,\n",
        "    verbose=False\n",
        ")"
      ],
      "execution_count": 0,
      "outputs": []
    },
    {
      "cell_type": "code",
      "metadata": {
        "id": "3kFzaDODG16Q",
        "colab_type": "code",
        "colab": {}
      },
      "source": [
        "cv_data.head(10)"
      ],
      "execution_count": 0,
      "outputs": []
    },
    {
      "cell_type": "code",
      "metadata": {
        "id": "6mfISA1uG16U",
        "colab_type": "code",
        "colab": {}
      },
      "source": [
        "best_value = np.min(cv_data['test-Logloss-mean'])\n",
        "best_iter = np.argmin(cv_data['test-Logloss-mean'])\n",
        "\n",
        "print('Best validation Logloss score, not stratified: {:.4f}±{:.4f} on step {}'.format(\n",
        "    best_value,\n",
        "    cv_data['test-Logloss-std'][best_iter],\n",
        "    best_iter)\n",
        ")"
      ],
      "execution_count": 0,
      "outputs": []
    },
    {
      "cell_type": "code",
      "metadata": {
        "id": "icT6gu6AG16X",
        "colab_type": "code",
        "colab": {}
      },
      "source": [
        "from catboost import cv\n",
        "\n",
        "params = {\n",
        "    'loss_function': 'Logloss',\n",
        "    'iterations': 80,\n",
        "    'custom_loss': 'AUC',\n",
        "    'learning_rate': 0.5,\n",
        "}\n",
        "\n",
        "cv_data = cv(\n",
        "    params = params,\n",
        "    pool = train_pool,\n",
        "    fold_count=5,\n",
        "    shuffle=True,\n",
        "    partition_random_seed=0,\n",
        "    plot=True,\n",
        "    stratified=True,\n",
        "    verbose=False\n",
        ")"
      ],
      "execution_count": 0,
      "outputs": []
    },
    {
      "cell_type": "code",
      "metadata": {
        "id": "HuDk8WT5G16c",
        "colab_type": "code",
        "colab": {}
      },
      "source": [
        "best_value = cv_data['test-Logloss-mean'].min()\n",
        "best_iter = cv_data['test-Logloss-mean'].values.argmin()\n",
        "\n",
        "print('Best validation Logloss score, stratified: {:.4f}±{:.4f} on step {}'.format(\n",
        "    best_value,\n",
        "    cv_data['test-Logloss-std'][best_iter],\n",
        "    best_iter)\n",
        ")"
      ],
      "execution_count": 0,
      "outputs": []
    },
    {
      "cell_type": "markdown",
      "metadata": {
        "id": "1q6e1V_4G16e",
        "colab_type": "text"
      },
      "source": [
        "## Sklearn Grid Search"
      ]
    },
    {
      "cell_type": "code",
      "metadata": {
        "id": "974rlFzFG16f",
        "colab_type": "code",
        "colab": {}
      },
      "source": [
        "from sklearn.model_selection import GridSearchCV\n",
        "\n",
        "param_grid = {\n",
        "    \"learning_rate\": [0.001, 0.01, 0.5],\n",
        "}\n",
        "\n",
        "clf = CatBoostClassifier(\n",
        "    iterations=20, \n",
        "    cat_features=cat_features, \n",
        "    verbose=20\n",
        ")\n",
        "grid_search = GridSearchCV(clf, param_grid=param_grid, cv=3)\n",
        "results = grid_search.fit(X_train, y_train)\n",
        "results.best_estimator_.get_params()"
      ],
      "execution_count": 0,
      "outputs": []
    },
    {
      "cell_type": "markdown",
      "metadata": {
        "id": "JYtekR9_G16h",
        "colab_type": "text"
      },
      "source": [
        "## Overfitting Detector"
      ]
    },
    {
      "cell_type": "code",
      "metadata": {
        "id": "sXoFrZYzG16i",
        "colab_type": "code",
        "colab": {}
      },
      "source": [
        "model_with_early_stop = CatBoostClassifier(\n",
        "    iterations=200,\n",
        "    learning_rate=0.5,\n",
        "    early_stopping_rounds=20\n",
        ")\n",
        "\n",
        "model_with_early_stop.fit(\n",
        "    train_pool,\n",
        "    eval_set=validation_pool,\n",
        "    verbose=False,\n",
        "    plot=True\n",
        ");"
      ],
      "execution_count": 0,
      "outputs": []
    },
    {
      "cell_type": "code",
      "metadata": {
        "id": "Ocb_NwJdG16k",
        "colab_type": "code",
        "colab": {}
      },
      "source": [
        "print(model_with_early_stop.tree_count_)"
      ],
      "execution_count": 0,
      "outputs": []
    },
    {
      "cell_type": "markdown",
      "metadata": {
        "id": "dc8RRp7CG16p",
        "colab_type": "text"
      },
      "source": [
        "### Overfitting Detector with eval metric"
      ]
    },
    {
      "cell_type": "code",
      "metadata": {
        "scrolled": true,
        "id": "Wb7Wj33ZG16q",
        "colab_type": "code",
        "colab": {}
      },
      "source": [
        "model_with_early_stop = CatBoostClassifier(\n",
        "    eval_metric='AUC',\n",
        "    iterations=200,\n",
        "    learning_rate=0.5,\n",
        "    early_stopping_rounds=20\n",
        ")\n",
        "model_with_early_stop.fit(\n",
        "    train_pool,\n",
        "    eval_set=validation_pool,\n",
        "    verbose=False,\n",
        "    plot=True\n",
        ");"
      ],
      "execution_count": 0,
      "outputs": []
    },
    {
      "cell_type": "code",
      "metadata": {
        "id": "jdNbI4b6G16s",
        "colab_type": "code",
        "colab": {}
      },
      "source": [
        "print(model_with_early_stop.tree_count_)"
      ],
      "execution_count": 0,
      "outputs": []
    },
    {
      "cell_type": "markdown",
      "metadata": {
        "id": "KY7w2tkhG16z",
        "colab_type": "text"
      },
      "source": [
        "## Model predictions"
      ]
    },
    {
      "cell_type": "code",
      "metadata": {
        "id": "32PzWfoYG161",
        "colab_type": "code",
        "colab": {}
      },
      "source": [
        "model = CatBoostClassifier(iterations=200, learning_rate=0.03)\n",
        "model.fit(train_pool, verbose=50);"
      ],
      "execution_count": 0,
      "outputs": []
    },
    {
      "cell_type": "code",
      "metadata": {
        "id": "IqD0PNb2G164",
        "colab_type": "code",
        "colab": {}
      },
      "source": [
        "print(model.predict_proba(X_validation))"
      ],
      "execution_count": 0,
      "outputs": []
    },
    {
      "cell_type": "code",
      "metadata": {
        "id": "EyNUva2BG168",
        "colab_type": "code",
        "colab": {}
      },
      "source": [
        "raw_pred = model.predict(\n",
        "    X_validation,\n",
        "    prediction_type='RawFormulaVal'\n",
        ")\n",
        "\n",
        "print(raw_pred)"
      ],
      "execution_count": 0,
      "outputs": []
    },
    {
      "cell_type": "code",
      "metadata": {
        "id": "zJLF-zRhG17D",
        "colab_type": "code",
        "colab": {}
      },
      "source": [
        "from numpy import exp\n",
        "\n",
        "sigmoid = lambda x: 1 / (1 + exp(-x))\n",
        "\n",
        "probabilities = sigmoid(raw_pred)\n",
        "\n",
        "print(probabilities)"
      ],
      "execution_count": 0,
      "outputs": []
    },
    {
      "cell_type": "code",
      "metadata": {
        "id": "6_POJE_yG17I",
        "colab_type": "code",
        "colab": {}
      },
      "source": [
        "predicted_classes = model.predict(X_validation)\n",
        "print(len(predicted_classes)) # count of objects\n",
        "print(sum(predicted_classes)) # count of positive predictions"
      ],
      "execution_count": 0,
      "outputs": []
    },
    {
      "cell_type": "markdown",
      "metadata": {
        "id": "6UmY2iJJG17O",
        "colab_type": "text"
      },
      "source": [
        "## Select decision boundary"
      ]
    },
    {
      "cell_type": "markdown",
      "metadata": {
        "id": "rGdffWyvG17P",
        "colab_type": "text"
      },
      "source": [
        "![](https://habrastorage.org/webt/y4/1q/yq/y41qyqfm9mcerp2ziys48phpjia.png)"
      ]
    },
    {
      "cell_type": "code",
      "metadata": {
        "id": "-KQld58gG17Q",
        "colab_type": "code",
        "colab": {}
      },
      "source": [
        "import matplotlib.pyplot as plt\n",
        "from catboost.utils import get_roc_curve\n",
        "from catboost.utils import get_fpr_curve\n",
        "from catboost.utils import get_fnr_curve\n",
        "\n",
        "curve = get_roc_curve(model, validation_pool)\n",
        "(fpr, tpr, thresholds) = curve\n",
        "\n",
        "(thresholds, fpr) = get_fpr_curve(curve=curve)\n",
        "(thresholds, fnr) = get_fnr_curve(curve=curve)"
      ],
      "execution_count": 0,
      "outputs": []
    },
    {
      "cell_type": "code",
      "metadata": {
        "id": "MsyNfYVPG17S",
        "colab_type": "code",
        "colab": {}
      },
      "source": [
        "plt.figure(figsize=(16, 8))\n",
        "style = {'alpha':0.5, 'lw':2}\n",
        "\n",
        "plt.plot(thresholds, fpr, color='blue', label='FPR', **style)\n",
        "plt.plot(thresholds, fnr, color='green', label='FNR', **style)\n",
        "\n",
        "plt.xlim([0.0, 1.0])\n",
        "plt.ylim([0.0, 1.05])\n",
        "plt.xticks(fontsize=16)\n",
        "plt.yticks(fontsize=16)\n",
        "plt.grid(True)\n",
        "plt.xlabel('Threshold', fontsize=16)\n",
        "plt.ylabel('Error Rate', fontsize=16)\n",
        "plt.title('FPR-FNR curves', fontsize=20)\n",
        "plt.legend(loc=\"lower left\", fontsize=16);"
      ],
      "execution_count": 0,
      "outputs": []
    },
    {
      "cell_type": "code",
      "metadata": {
        "id": "PRAwvyG7G17U",
        "colab_type": "code",
        "colab": {}
      },
      "source": [
        "from catboost.utils import select_threshold\n",
        "\n",
        "print(select_threshold(model, validation_pool, FNR=0.01))\n",
        "print(select_threshold(model, validation_pool, FPR=0.01))"
      ],
      "execution_count": 0,
      "outputs": []
    },
    {
      "cell_type": "markdown",
      "metadata": {
        "id": "OsEierHuG17Z",
        "colab_type": "text"
      },
      "source": [
        "## Metric evaluation on a new dataset"
      ]
    },
    {
      "cell_type": "code",
      "metadata": {
        "id": "3d9j4iJfG17a",
        "colab_type": "code",
        "colab": {}
      },
      "source": [
        "metrics = model.eval_metrics(\n",
        "    data=validation_pool,\n",
        "    metrics=['Logloss','AUC'],\n",
        "    ntree_start=0,\n",
        "    ntree_end=0,\n",
        "    eval_period=1,\n",
        "    plot=True\n",
        ")"
      ],
      "execution_count": 0,
      "outputs": []
    },
    {
      "cell_type": "code",
      "metadata": {
        "id": "HAhjAmD6G17d",
        "colab_type": "code",
        "colab": {}
      },
      "source": [
        "print('AUC values:\\n{}'.format(np.array(metrics['AUC'])))"
      ],
      "execution_count": 0,
      "outputs": []
    },
    {
      "cell_type": "markdown",
      "metadata": {
        "id": "M0dHH18TG17g",
        "colab_type": "text"
      },
      "source": [
        "## Feature importances"
      ]
    },
    {
      "cell_type": "markdown",
      "metadata": {
        "id": "VVL_3wkvG17g",
        "colab_type": "text"
      },
      "source": [
        "### Prediction values change"
      ]
    },
    {
      "cell_type": "markdown",
      "metadata": {
        "id": "tg3wekC-G17h",
        "colab_type": "text"
      },
      "source": [
        "Default feature importances for binary classification is PredictionValueChange - how much on average does the model change when the feature value changes.\n",
        "These feature importances are non negative.\n",
        "They are normalized and sum to 1, so you can look on these values like percentage of importance."
      ]
    },
    {
      "cell_type": "code",
      "metadata": {
        "id": "i9BcOJH3G17i",
        "colab_type": "code",
        "colab": {}
      },
      "source": [
        "np.array(model.get_feature_importance(prettified=True))"
      ],
      "execution_count": 0,
      "outputs": []
    },
    {
      "cell_type": "markdown",
      "metadata": {
        "id": "fMLuuqnXG17p",
        "colab_type": "text"
      },
      "source": [
        "### Loss function change"
      ]
    },
    {
      "cell_type": "markdown",
      "metadata": {
        "id": "TAb76DNvG17p",
        "colab_type": "text"
      },
      "source": [
        "The non default feature importance approximates how much the optimized loss function will change if the value of the feature changes.\n",
        "This importances might be negative if the feature has bad influence on the loss function.\n",
        "The importances are not normalized, the absolute value of the importance has the same scale as the optimized loss value.\n",
        "To calculate this importance value you need to pass train_pool as an argument."
      ]
    },
    {
      "cell_type": "code",
      "metadata": {
        "id": "vDlm3pFCG17q",
        "colab_type": "code",
        "colab": {}
      },
      "source": [
        "np.array(model.get_feature_importance(\n",
        "    train_pool, \n",
        "    'LossFunctionChange', \n",
        "    prettified=True\n",
        "))"
      ],
      "execution_count": 0,
      "outputs": []
    },
    {
      "cell_type": "markdown",
      "metadata": {
        "id": "l1N4a6i5G17s",
        "colab_type": "text"
      },
      "source": [
        "### Shap values"
      ]
    },
    {
      "cell_type": "code",
      "metadata": {
        "id": "YEZkZ4ykG17t",
        "colab_type": "code",
        "colab": {}
      },
      "source": [
        "print(model.predict_proba([X.iloc[1,:]]))\n",
        "print(model.predict_proba([X.iloc[91,:]]))"
      ],
      "execution_count": 0,
      "outputs": []
    },
    {
      "cell_type": "code",
      "metadata": {
        "id": "8-QPZFX1G17w",
        "colab_type": "code",
        "colab": {}
      },
      "source": [
        "shap_values = model.get_feature_importance(\n",
        "    validation_pool, \n",
        "    'ShapValues'\n",
        ")\n",
        "print(shap_values.shape)"
      ],
      "execution_count": 0,
      "outputs": []
    },
    {
      "cell_type": "code",
      "metadata": {
        "id": "FSsgwKp3G17z",
        "colab_type": "code",
        "colab": {}
      },
      "source": [
        "proba = model.predict_proba([X.iloc[1,:]])[0]\n",
        "raw = model.predict([X.iloc[1,:]], prediction_type='RawFormulaVal')[0]\n",
        "print('Probabilities', proba)\n",
        "print('Raw formula value %.4f' % raw)\n",
        "print('Probability from raw value %.4f' % sigmoid(raw))"
      ],
      "execution_count": 0,
      "outputs": []
    },
    {
      "cell_type": "code",
      "metadata": {
        "id": "eyAQN-hiG175",
        "colab_type": "code",
        "colab": {}
      },
      "source": [
        "import shap\n",
        "explainer = shap.TreeExplainer(model)\n",
        "shap_values = explainer.shap_values(pool1)\n",
        "\n",
        "shap.initjs()\n",
        "shap.force_plot(explainer.expected_value, shap_values[1,:], X.iloc[1,:])"
      ],
      "execution_count": 0,
      "outputs": []
    },
    {
      "cell_type": "code",
      "metadata": {
        "id": "IhgAr7jyG17_",
        "colab_type": "code",
        "colab": {}
      },
      "source": [
        "proba = model.predict_proba([X.iloc[91,:]])[0]\n",
        "raw = model.predict([X.iloc[91,:]], prediction_type='RawFormulaVal')[0]\n",
        "print('Probabilities', proba)\n",
        "print('Raw formula value %.4f' % raw)\n",
        "print('Probability from raw value %.4f' % sigmoid(raw))"
      ],
      "execution_count": 0,
      "outputs": []
    },
    {
      "cell_type": "code",
      "metadata": {
        "id": "dgr-9M3XG18L",
        "colab_type": "code",
        "colab": {}
      },
      "source": [
        "import shap\n",
        "shap.initjs()\n",
        "shap.force_plot(explainer.expected_value, shap_values[91,:], X.iloc[91,:])"
      ],
      "execution_count": 0,
      "outputs": []
    },
    {
      "cell_type": "code",
      "metadata": {
        "id": "g4XaSTJeG18M",
        "colab_type": "code",
        "colab": {}
      },
      "source": [
        "shap.summary_plot(shap_values, X)"
      ],
      "execution_count": 0,
      "outputs": []
    },
    {
      "cell_type": "markdown",
      "metadata": {
        "id": "GGgl-dKtG18R",
        "colab_type": "text"
      },
      "source": [
        "## Snapshotting"
      ]
    },
    {
      "cell_type": "code",
      "metadata": {
        "scrolled": false,
        "id": "crNnZg-kG18S",
        "colab_type": "code",
        "colab": {}
      },
      "source": [
        "#!rm 'catboost_info/snapshot.bkp'\n",
        "\n",
        "model = CatBoostClassifier(\n",
        "    iterations=100,\n",
        "    save_snapshot=True,\n",
        "    snapshot_file='snapshot.bkp',\n",
        "    snapshot_interval=1\n",
        ")\n",
        "\n",
        "model.fit(train_pool, eval_set=validation_pool, verbose=10);"
      ],
      "execution_count": 0,
      "outputs": []
    },
    {
      "cell_type": "markdown",
      "metadata": {
        "id": "p0Y3AtmDG18U",
        "colab_type": "text"
      },
      "source": [
        "## Saving the model"
      ]
    },
    {
      "cell_type": "code",
      "metadata": {
        "id": "-9mxXm0SG18U",
        "colab_type": "code",
        "colab": {}
      },
      "source": [
        "model = CatBoostClassifier(iterations=10)\n",
        "model.fit(train_pool, eval_set=validation_pool, verbose=False)\n",
        "model.save_model('catboost_model.bin')\n",
        "model.save_model('catboost_model.json', format='json')"
      ],
      "execution_count": 0,
      "outputs": []
    },
    {
      "cell_type": "code",
      "metadata": {
        "id": "cF5BExoVG18W",
        "colab_type": "code",
        "colab": {}
      },
      "source": [
        "model.load_model('catboost_model.bin')\n",
        "print(model.get_params())\n",
        "print(model.learning_rate_)"
      ],
      "execution_count": 0,
      "outputs": []
    },
    {
      "cell_type": "markdown",
      "metadata": {
        "id": "IsKLSPMIG18X",
        "colab_type": "text"
      },
      "source": [
        "## Solving MultiClassification problem"
      ]
    },
    {
      "cell_type": "code",
      "metadata": {
        "id": "fDMMrBfkG18Y",
        "colab_type": "code",
        "colab": {}
      },
      "source": [
        "model = CatBoostClassifier(loss_function='MultiClass', iterations=50)\n",
        "\n",
        "model.fit(\n",
        "    train_pool,\n",
        "    eval_set=validation_pool,\n",
        "    verbose=False,\n",
        "    plot=True\n",
        ");"
      ],
      "execution_count": 0,
      "outputs": []
    },
    {
      "cell_type": "markdown",
      "metadata": {
        "id": "pjyZ950yG18a",
        "colab_type": "text"
      },
      "source": [
        "## Hyperparameter tunning"
      ]
    },
    {
      "cell_type": "code",
      "metadata": {
        "id": "IjQDkN7iG18a",
        "colab_type": "code",
        "colab": {}
      },
      "source": [
        "tunned_model = CatBoostClassifier(\n",
        "    iterations=1000,\n",
        "    learning_rate=0.03,\n",
        "    depth=6,\n",
        "    l2_leaf_reg=3,\n",
        "    random_strength=1,\n",
        "    bagging_temperature=1\n",
        ")\n",
        "\n",
        "tunned_model.fit(\n",
        "    X_train, y_train,\n",
        "    cat_features=cat_features,\n",
        "    verbose=False,\n",
        "    eval_set=(X_validation, y_validation),\n",
        "    plot=True\n",
        ");"
      ],
      "execution_count": 0,
      "outputs": []
    },
    {
      "cell_type": "markdown",
      "metadata": {
        "id": "7FWZKqDiG18c",
        "colab_type": "text"
      },
      "source": [
        "# Speeding up the training"
      ]
    },
    {
      "cell_type": "code",
      "metadata": {
        "id": "GuORTvABG18c",
        "colab_type": "code",
        "colab": {}
      },
      "source": [
        "fast_model = CatBoostClassifier(\n",
        "    boosting_type='Plain',\n",
        "    rsm=0.5,\n",
        "    one_hot_max_size=50,\n",
        "    leaf_estimation_iterations=1,\n",
        "    max_ctr_complexity=1,\n",
        "    iterations=100,\n",
        "    learning_rate=0.3,\n",
        "    bootstrap_type='Bernoulli',\n",
        "    subsample=0.5\n",
        ")\n",
        "fast_model.fit(\n",
        "    X_train, y_train,\n",
        "    cat_features=cat_features,\n",
        "    verbose=False,\n",
        "    eval_set=(X_validation, y_validation),\n",
        "    plot=True\n",
        ");"
      ],
      "execution_count": 0,
      "outputs": []
    },
    {
      "cell_type": "markdown",
      "metadata": {
        "id": "KlvqUm4TG18e",
        "colab_type": "text"
      },
      "source": [
        "# Reducing model size"
      ]
    },
    {
      "cell_type": "code",
      "metadata": {
        "id": "ZUW6_3F9G18f",
        "colab_type": "code",
        "colab": {}
      },
      "source": [
        "small_model = CatBoostClassifier(\n",
        "    iterations=500,\n",
        "    model_size_reg=50,\n",
        "    max_ctr_complexity=1,\n",
        "    ctr_leaf_count_limit=100\n",
        ")\n",
        "small_model.fit(\n",
        "    X_train, y_train,\n",
        "    cat_features=cat_features,\n",
        "    verbose=False,\n",
        "    eval_set=(X_validation, y_validation),\n",
        "    plot=True\n",
        ");"
      ],
      "execution_count": 0,
      "outputs": []
    }
  ]
}